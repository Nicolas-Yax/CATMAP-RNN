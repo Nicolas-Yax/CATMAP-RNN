{
 "cells": [
  {
   "cell_type": "code",
   "execution_count": 1,
   "metadata": {},
   "outputs": [
    {
     "name": "stdout",
     "output_type": "stream",
     "text": [
      "Requirement already satisfied: tensorflow in ./.conda/lib/python3.11/site-packages (from -r requirements.txt (line 1)) (2.15.0.post1)\n",
      "Requirement already satisfied: matplotlib in ./.conda/lib/python3.11/site-packages (from -r requirements.txt (line 2)) (3.8.2)\n",
      "Requirement already satisfied: pickle-mixin in ./.conda/lib/python3.11/site-packages (from -r requirements.txt (line 3)) (1.0.2)\n",
      "Requirement already satisfied: scipy in ./.conda/lib/python3.11/site-packages (from -r requirements.txt (line 4)) (1.12.0)\n",
      "Requirement already satisfied: scikit-learn in ./.conda/lib/python3.11/site-packages (from -r requirements.txt (line 5)) (1.4.0)\n",
      "Requirement already satisfied: absl-py>=1.0.0 in ./.conda/lib/python3.11/site-packages (from tensorflow->-r requirements.txt (line 1)) (2.1.0)\n",
      "Requirement already satisfied: astunparse>=1.6.0 in ./.conda/lib/python3.11/site-packages (from tensorflow->-r requirements.txt (line 1)) (1.6.3)\n",
      "Requirement already satisfied: flatbuffers>=23.5.26 in ./.conda/lib/python3.11/site-packages (from tensorflow->-r requirements.txt (line 1)) (23.5.26)\n",
      "Requirement already satisfied: gast!=0.5.0,!=0.5.1,!=0.5.2,>=0.2.1 in ./.conda/lib/python3.11/site-packages (from tensorflow->-r requirements.txt (line 1)) (0.5.4)\n",
      "Requirement already satisfied: google-pasta>=0.1.1 in ./.conda/lib/python3.11/site-packages (from tensorflow->-r requirements.txt (line 1)) (0.2.0)\n",
      "Requirement already satisfied: h5py>=2.9.0 in ./.conda/lib/python3.11/site-packages (from tensorflow->-r requirements.txt (line 1)) (3.10.0)\n",
      "Requirement already satisfied: libclang>=13.0.0 in ./.conda/lib/python3.11/site-packages (from tensorflow->-r requirements.txt (line 1)) (16.0.6)\n",
      "Requirement already satisfied: ml-dtypes~=0.2.0 in ./.conda/lib/python3.11/site-packages (from tensorflow->-r requirements.txt (line 1)) (0.2.0)\n",
      "Requirement already satisfied: numpy<2.0.0,>=1.23.5 in ./.conda/lib/python3.11/site-packages (from tensorflow->-r requirements.txt (line 1)) (1.26.3)\n",
      "Requirement already satisfied: opt-einsum>=2.3.2 in ./.conda/lib/python3.11/site-packages (from tensorflow->-r requirements.txt (line 1)) (3.3.0)\n",
      "Requirement already satisfied: packaging in ./.conda/lib/python3.11/site-packages (from tensorflow->-r requirements.txt (line 1)) (23.2)\n",
      "Requirement already satisfied: protobuf!=4.21.0,!=4.21.1,!=4.21.2,!=4.21.3,!=4.21.4,!=4.21.5,<5.0.0dev,>=3.20.3 in ./.conda/lib/python3.11/site-packages (from tensorflow->-r requirements.txt (line 1)) (4.23.4)\n",
      "Requirement already satisfied: setuptools in ./.conda/lib/python3.11/site-packages (from tensorflow->-r requirements.txt (line 1)) (68.2.2)\n",
      "Requirement already satisfied: six>=1.12.0 in ./.conda/lib/python3.11/site-packages (from tensorflow->-r requirements.txt (line 1)) (1.16.0)\n",
      "Requirement already satisfied: termcolor>=1.1.0 in ./.conda/lib/python3.11/site-packages (from tensorflow->-r requirements.txt (line 1)) (2.4.0)\n",
      "Requirement already satisfied: typing-extensions>=3.6.6 in ./.conda/lib/python3.11/site-packages (from tensorflow->-r requirements.txt (line 1)) (4.9.0)\n",
      "Requirement already satisfied: wrapt<1.15,>=1.11.0 in ./.conda/lib/python3.11/site-packages (from tensorflow->-r requirements.txt (line 1)) (1.14.1)\n",
      "Requirement already satisfied: tensorflow-io-gcs-filesystem>=0.23.1 in ./.conda/lib/python3.11/site-packages (from tensorflow->-r requirements.txt (line 1)) (0.35.0)\n",
      "Requirement already satisfied: grpcio<2.0,>=1.24.3 in ./.conda/lib/python3.11/site-packages (from tensorflow->-r requirements.txt (line 1)) (1.60.0)\n",
      "Requirement already satisfied: tensorboard<2.16,>=2.15 in ./.conda/lib/python3.11/site-packages (from tensorflow->-r requirements.txt (line 1)) (2.15.1)\n",
      "Requirement already satisfied: tensorflow-estimator<2.16,>=2.15.0 in ./.conda/lib/python3.11/site-packages (from tensorflow->-r requirements.txt (line 1)) (2.15.0)\n",
      "Requirement already satisfied: keras<2.16,>=2.15.0 in ./.conda/lib/python3.11/site-packages (from tensorflow->-r requirements.txt (line 1)) (2.15.0)\n",
      "Requirement already satisfied: contourpy>=1.0.1 in ./.conda/lib/python3.11/site-packages (from matplotlib->-r requirements.txt (line 2)) (1.2.0)\n",
      "Requirement already satisfied: cycler>=0.10 in ./.conda/lib/python3.11/site-packages (from matplotlib->-r requirements.txt (line 2)) (0.12.1)\n",
      "Requirement already satisfied: fonttools>=4.22.0 in ./.conda/lib/python3.11/site-packages (from matplotlib->-r requirements.txt (line 2)) (4.47.2)\n",
      "Requirement already satisfied: kiwisolver>=1.3.1 in ./.conda/lib/python3.11/site-packages (from matplotlib->-r requirements.txt (line 2)) (1.4.5)\n",
      "Requirement already satisfied: pillow>=8 in ./.conda/lib/python3.11/site-packages (from matplotlib->-r requirements.txt (line 2)) (10.2.0)\n",
      "Requirement already satisfied: pyparsing>=2.3.1 in ./.conda/lib/python3.11/site-packages (from matplotlib->-r requirements.txt (line 2)) (3.1.1)\n",
      "Requirement already satisfied: python-dateutil>=2.7 in ./.conda/lib/python3.11/site-packages (from matplotlib->-r requirements.txt (line 2)) (2.8.2)\n",
      "Requirement already satisfied: joblib>=1.2.0 in ./.conda/lib/python3.11/site-packages (from scikit-learn->-r requirements.txt (line 5)) (1.3.2)\n",
      "Requirement already satisfied: threadpoolctl>=2.0.0 in ./.conda/lib/python3.11/site-packages (from scikit-learn->-r requirements.txt (line 5)) (3.2.0)\n",
      "Requirement already satisfied: wheel<1.0,>=0.23.0 in ./.conda/lib/python3.11/site-packages (from astunparse>=1.6.0->tensorflow->-r requirements.txt (line 1)) (0.41.2)\n",
      "Requirement already satisfied: google-auth<3,>=1.6.3 in ./.conda/lib/python3.11/site-packages (from tensorboard<2.16,>=2.15->tensorflow->-r requirements.txt (line 1)) (2.27.0)\n",
      "Requirement already satisfied: google-auth-oauthlib<2,>=0.5 in ./.conda/lib/python3.11/site-packages (from tensorboard<2.16,>=2.15->tensorflow->-r requirements.txt (line 1)) (1.2.0)\n",
      "Requirement already satisfied: markdown>=2.6.8 in ./.conda/lib/python3.11/site-packages (from tensorboard<2.16,>=2.15->tensorflow->-r requirements.txt (line 1)) (3.5.2)\n",
      "Requirement already satisfied: requests<3,>=2.21.0 in ./.conda/lib/python3.11/site-packages (from tensorboard<2.16,>=2.15->tensorflow->-r requirements.txt (line 1)) (2.31.0)\n",
      "Requirement already satisfied: tensorboard-data-server<0.8.0,>=0.7.0 in ./.conda/lib/python3.11/site-packages (from tensorboard<2.16,>=2.15->tensorflow->-r requirements.txt (line 1)) (0.7.2)\n",
      "Requirement already satisfied: werkzeug>=1.0.1 in ./.conda/lib/python3.11/site-packages (from tensorboard<2.16,>=2.15->tensorflow->-r requirements.txt (line 1)) (3.0.1)\n",
      "Requirement already satisfied: cachetools<6.0,>=2.0.0 in ./.conda/lib/python3.11/site-packages (from google-auth<3,>=1.6.3->tensorboard<2.16,>=2.15->tensorflow->-r requirements.txt (line 1)) (5.3.2)\n",
      "Requirement already satisfied: pyasn1-modules>=0.2.1 in ./.conda/lib/python3.11/site-packages (from google-auth<3,>=1.6.3->tensorboard<2.16,>=2.15->tensorflow->-r requirements.txt (line 1)) (0.3.0)\n",
      "Requirement already satisfied: rsa<5,>=3.1.4 in ./.conda/lib/python3.11/site-packages (from google-auth<3,>=1.6.3->tensorboard<2.16,>=2.15->tensorflow->-r requirements.txt (line 1)) (4.9)\n",
      "Requirement already satisfied: requests-oauthlib>=0.7.0 in ./.conda/lib/python3.11/site-packages (from google-auth-oauthlib<2,>=0.5->tensorboard<2.16,>=2.15->tensorflow->-r requirements.txt (line 1)) (1.3.1)\n",
      "Requirement already satisfied: charset-normalizer<4,>=2 in ./.conda/lib/python3.11/site-packages (from requests<3,>=2.21.0->tensorboard<2.16,>=2.15->tensorflow->-r requirements.txt (line 1)) (3.3.2)\n",
      "Requirement already satisfied: idna<4,>=2.5 in ./.conda/lib/python3.11/site-packages (from requests<3,>=2.21.0->tensorboard<2.16,>=2.15->tensorflow->-r requirements.txt (line 1)) (3.6)\n",
      "Requirement already satisfied: urllib3<3,>=1.21.1 in ./.conda/lib/python3.11/site-packages (from requests<3,>=2.21.0->tensorboard<2.16,>=2.15->tensorflow->-r requirements.txt (line 1)) (2.2.0)\n",
      "Requirement already satisfied: certifi>=2017.4.17 in ./.conda/lib/python3.11/site-packages (from requests<3,>=2.21.0->tensorboard<2.16,>=2.15->tensorflow->-r requirements.txt (line 1)) (2023.11.17)\n",
      "Requirement already satisfied: MarkupSafe>=2.1.1 in ./.conda/lib/python3.11/site-packages (from werkzeug>=1.0.1->tensorboard<2.16,>=2.15->tensorflow->-r requirements.txt (line 1)) (2.1.4)\n",
      "Requirement already satisfied: pyasn1<0.6.0,>=0.4.6 in ./.conda/lib/python3.11/site-packages (from pyasn1-modules>=0.2.1->google-auth<3,>=1.6.3->tensorboard<2.16,>=2.15->tensorflow->-r requirements.txt (line 1)) (0.5.1)\n",
      "Requirement already satisfied: oauthlib>=3.0.0 in ./.conda/lib/python3.11/site-packages (from requests-oauthlib>=0.7.0->google-auth-oauthlib<2,>=0.5->tensorboard<2.16,>=2.15->tensorflow->-r requirements.txt (line 1)) (3.2.2)\n"
     ]
    }
   ],
   "source": [
    "!pip install -r requirements.txt"
   ]
  },
  {
   "cell_type": "code",
   "execution_count": 2,
   "metadata": {},
   "outputs": [
    {
     "name": "stderr",
     "output_type": "stream",
     "text": [
      "2024-01-30 17:01:39.078329: I external/local_tsl/tsl/cuda/cudart_stub.cc:31] Could not find cuda drivers on your machine, GPU will not be used.\n",
      "2024-01-30 17:01:39.104693: E external/local_xla/xla/stream_executor/cuda/cuda_dnn.cc:9261] Unable to register cuDNN factory: Attempting to register factory for plugin cuDNN when one has already been registered\n",
      "2024-01-30 17:01:39.104715: E external/local_xla/xla/stream_executor/cuda/cuda_fft.cc:607] Unable to register cuFFT factory: Attempting to register factory for plugin cuFFT when one has already been registered\n",
      "2024-01-30 17:01:39.105346: E external/local_xla/xla/stream_executor/cuda/cuda_blas.cc:1515] Unable to register cuBLAS factory: Attempting to register factory for plugin cuBLAS when one has already been registered\n",
      "2024-01-30 17:01:39.109279: I external/local_tsl/tsl/cuda/cudart_stub.cc:31] Could not find cuda drivers on your machine, GPU will not be used.\n",
      "2024-01-30 17:01:39.109586: I tensorflow/core/platform/cpu_feature_guard.cc:182] This TensorFlow binary is optimized to use available CPU instructions in performance-critical operations.\n",
      "To enable the following instructions: AVX2 FMA, in other operations, rebuild TensorFlow with the appropriate compiler flags.\n",
      "2024-01-30 17:01:39.676237: W tensorflow/compiler/tf2tensorrt/utils/py_utils.cc:38] TF-TRT Warning: Could not find TensorRT\n"
     ]
    }
   ],
   "source": [
    "from agents.theoritical_agent import *\n",
    "from agents.angle_agent import *\n",
    "from agents.observation_agent import *\n",
    "from agents.control_rnn import *\n",
    "from agents.pre_rnn import *\n",
    "from agents.post_rnn import *\n",
    "from agents.universal_rnn import *\n",
    "from env import *\n",
    "import numpy as np\n",
    "from tf_to_mat import *\n",
    "\n",
    "import matplotlib.pyplot as plt\n",
    "from mpl_toolkits import mplot3d"
   ]
  },
  {
   "cell_type": "code",
   "execution_count": 3,
   "metadata": {},
   "outputs": [],
   "source": [
    "tf.keras.backend.set_floatx('float64')"
   ]
  },
  {
   "cell_type": "code",
   "execution_count": 4,
   "metadata": {},
   "outputs": [],
   "source": [
    "#Parameters\n",
    "kappa = 0.5 #Kappa for the von mises\n",
    "deck_size = 12 #length sequences\n",
    "optimal_training = False #Training on optimal labels instead of real ones\n",
    "\n",
    "nb = 1 #Nb of networks to train\n",
    "batch_size = 2000 #Batch size for the training (length of the training)\n",
    "rnn_noise = None #Std for noisy networks (put None if you don't want a noisy network)\n",
    "random_training = True #Training on sequence of random length chosen uniformely in [|1,12|]\n",
    "separated_params = (10,2) #(Nb of neurons which will see the first part of the input,size of the first part of the input)\n",
    "\n",
    "free_feedback = True #True = free feedback in the recurrent network / False = only REF -> SEQ feedbacks\n",
    "\n",
    "activation = 'tanh' #Activation function\n",
    "\n",
    "separated = False #Separated network\n",
    "\n",
    "condition = 'control'"
   ]
  },
  {
   "cell_type": "code",
   "execution_count": 5,
   "metadata": {},
   "outputs": [],
   "source": [
    "if optimal_training:\n",
    "    random_training = False #Random training cannot be used with random_training (technical issues)"
   ]
  },
  {
   "cell_type": "code",
   "execution_count": 6,
   "metadata": {},
   "outputs": [],
   "source": [
    "env = Env(deck_size,kappa=kappa,condition=condition)\n",
    "agent = UniversalRNN(50,activation=activation,noise=rnn_noise,random_training=random_training)\n",
    "agent.postname = condition #Set path name for saving and loading"
   ]
  },
  {
   "cell_type": "code",
   "execution_count": 7,
   "metadata": {},
   "outputs": [],
   "source": [
    "def train(agent,env,nb_episodes=1):\n",
    "    for i in range(nb_episodes):\n",
    "        curve = []\n",
    "        #Train the network\n",
    "        agent.train(env,1,batch_size=2000,nb_fit=5,verbose=1)\n",
    "        #Evaluate the network\n",
    "        env = Env(deck_size,kappa=kappa)\n",
    "        acc = agent.evaluate(env.sample_batch(20000))\n",
    "        print(i,\"acc :\",acc)\n",
    "        #Save accuracies\n",
    "        curve.append(agent.scores)\n",
    "    return curve"
   ]
  },
  {
   "cell_type": "code",
   "execution_count": 11,
   "metadata": {},
   "outputs": [
    {
     "name": "stdout",
     "output_type": "stream",
     "text": [
      "0 0.475\n",
      "0 acc : 0.5032\n",
      "0 0.5115\n",
      "1 acc : 0.4991\n",
      "0 0.498\n",
      "2 acc : 0.5003\n",
      "0 0.5095\n",
      "3 acc : 0.4984\n",
      "0 0.4935\n",
      "4 acc : 0.50985\n",
      "0 0.5155\n",
      "5 acc : 0.52595\n",
      "0 0.506\n",
      "6 acc : 0.5409\n",
      "0 0.548\n",
      "7 acc : 0.5595\n",
      "0 0.574\n",
      "8 acc : 0.56465\n",
      "0 0.574\n",
      "9 acc : 0.57305\n",
      "SAVING ['nn', 'out_nn']\n"
     ]
    }
   ],
   "source": [
    "curve = train(agent,env,10)\n",
    "agent.save('UniversalRNN-'+str(condition))"
   ]
  },
  {
   "cell_type": "code",
   "execution_count": 14,
   "metadata": {},
   "outputs": [
    {
     "data": {
      "image/png": "[encoded data removed]",
      "text/plain": [
       "<Figure size 640x480 with 1 Axes>"
      ]
     },
     "metadata": {},
     "output_type": "display_data"
    }
   ],
   "source": [
    "#Plot accuracies\n",
    "plt.plot(range(len(curve)),curve,alpha=0.4,color='grey',label=condition)\n",
    "plt.legend()\n",
    "plt.show()"
   ]
  }
 ],
 "metadata": {
  "kernelspec": {
   "display_name": "base",
   "language": "python",
   "name": "python3"
  },
  "language_info": {
   "codemirror_mode": {
    "name": "ipython",
    "version": 3
   },
   "file_extension": ".py",
   "mimetype": "text/x-python",
   "name": "python",
   "nbconvert_exporter": "python",
   "pygments_lexer": "ipython3",
   "version": "3.11.7"
  }
 },
 "nbformat": 4,
 "nbformat_minor": 2
}
